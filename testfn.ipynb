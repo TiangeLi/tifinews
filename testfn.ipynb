{
 "cells": [
  {
   "cell_type": "code",
   "execution_count": 183,
   "metadata": {},
   "outputs": [],
   "source": [
    "ALPHAVANTAGE_API_KEY = 'NVBYU4Y28MZA0CGL'\n",
    "NEWS_API_KEY = '56cf52f7fa3645d8bc9900ec018d4ab5'\n",
    "WEBZ_API_KEY = '0548ace8-bc9c-4437-a6aa-1213e335a07a'\n",
    "\n",
    "LITTERBOT_USERNAME = \"tiangeli333@gmail.com\"\n",
    "LITTERBOT_PASSWORD = \"8EwXN6qFpvPCqrnCiyy49jxb4tmKFs\"\n",
    "\n",
    "WEATHER_API_KEY = 'ad82a80dbea630b310d040ef4eba3ce5'\n",
    "\n",
    "import httpx"
   ]
  },
  {
   "cell_type": "code",
   "execution_count": null,
   "metadata": {},
   "outputs": [],
   "source": [
    "def get_weather():\n",
    "    url = 'https://api.openweathermap.org/data/3.0/onecall?'\n",
    "    response = httpx.request('GET', url, params={\n",
    "        'appid': WEATHER_API_KEY,\n",
    "        'lat': 43.660280,\n",
    "        'long': -79.409500\n",
    "    })"
   ]
  }
 ],
 "metadata": {
  "kernelspec": {
   "display_name": "Python 3",
   "language": "python",
   "name": "python3"
  },
  "language_info": {
   "codemirror_mode": {
    "name": "ipython",
    "version": 3
   },
   "file_extension": ".py",
   "mimetype": "text/x-python",
   "name": "python",
   "nbconvert_exporter": "python",
   "pygments_lexer": "ipython3",
   "version": "3.12.2"
  }
 },
 "nbformat": 4,
 "nbformat_minor": 2
}
